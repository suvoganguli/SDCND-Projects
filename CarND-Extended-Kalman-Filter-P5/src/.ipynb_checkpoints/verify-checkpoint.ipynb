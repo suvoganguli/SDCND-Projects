{
 "cells": [
  {
   "cell_type": "code",
   "execution_count": 40,
   "metadata": {},
   "outputs": [],
   "source": [
    "import numpy as np\n",
    "\n",
    "# create samples\n",
    "samples = []\n",
    "filename = '../data/obj_pose-laser-radar-synthetic-input.txt'\n",
    "readfile = open(filename,'r')\n"
   ]
  },
  {
   "cell_type": "code",
   "execution_count": 89,
   "metadata": {},
   "outputs": [],
   "source": [
    "x = np.array([0, 0, 0, 0])\n",
    "\n",
    "x_all = np.empty((0,4))\n",
    "x_all = np.append(x_all, [x], axis=0)\n"
   ]
  },
  {
   "cell_type": "code",
   "execution_count": 103,
   "metadata": {},
   "outputs": [
    {
     "name": "stdout",
     "output_type": "stream",
     "text": [
      "[[0. 0. 0. 0.]]\n"
     ]
    }
   ],
   "source": [
    "# Lidar measurement\n",
    "\n",
    "k = 0\n",
    "n = 1\n",
    "\n",
    "is_init = False\n",
    "\n",
    "x_groundtruth = []\n",
    "y_groundtruth = []\n",
    "vx_groundtruth = []\n",
    "vy_groundtruth = []\n",
    "\n",
    "for k in range(n):\n",
    "    line = readfile.readline()\n",
    "    words = line.split('\\t')\n",
    "    \n",
    "    if words[0] == 'L': \n",
    "        x_measured = float(words[1])\n",
    "        y_measured = float(words[2])\n",
    "        timestamp = float(words[3])\n",
    "        x_groundtruth = float(words[4])\n",
    "        y_groundtruth = float(words[5])\n",
    "        vx_groundtruth = float(words[6])\n",
    "        vy_groundtruth = float(words[7])\n",
    "    \n",
    "        t_current = timestamp\n",
    "        if is_init == False:\n",
    "            t_previous = t_current\n",
    "            is_init = True\n",
    "            print(is_init)\n",
    "            \n",
    "        dt = t_current - t_previous        \n",
    "        print('dt = ', str(dt))\n",
    "        \n",
    "        F = np.array(\n",
    "            [[1, 0, dt, 0],\n",
    "             [0, 1, 0, dt],\n",
    "             [0, 0, 1, 0],\n",
    "             [0, 0, 0, 1]])\n",
    "        \n",
    "        dt4 = dt*dt*dt*dt;\n",
    "        dt3 = dt*dt*dt;\n",
    "        dt2 = dt*dt;\n",
    "        sx2 = 9;\n",
    "        sy2 = 9;\n",
    "\n",
    "        Q = [[dt4/4*sx2,      0,    dt3/2*sx2,  0],\n",
    "             [0,    dt4/4*sy2,   0,     dt3/2*sy2],\n",
    "             [dt3/2*sx2,      0,    dt2*sx2,    0],  \n",
    "             [0,    dt3/2*sy2,   0,     dt2*sy2]]\n",
    "        \n",
    "        # Prediction\n",
    "        x = F*x\n",
    "        #np.append(x_all, [x], axis=0)\n",
    "        \n",
    "        # Update\n",
    "        \n",
    "\n",
    "    if words[0] == 'R':\n",
    "        radar_rho_measured = float(words[1])\n",
    "        radar_phi_measured = float(words[2])\n",
    "        radar_rhodot_measured = float(words[3])\n",
    "        timestamp = float(words[4])\n",
    "        x_groundtruth.append(float(words[5]))\n",
    "        y_groundtruth.append(float(words[6]))\n",
    "        vx_groundtruth.append(float(words[7]))\n",
    "        vy_groundtruth.append(float(words[8]))\n",
    "                        \n",
    "        t_current = timestamp\n",
    "        if is_init == False:\n",
    "            t_previous = t_current\n",
    "            is_init = True\n",
    "            print(is_init)\n",
    "            \n",
    "        dt = t_current - t_previous        \n",
    "        print('dt = ', str(dt))\n",
    "        \n",
    "print(x_all)"
   ]
  },
  {
   "cell_type": "code",
   "execution_count": 34,
   "metadata": {
    "scrolled": true
   },
   "outputs": [
    {
     "name": "stdout",
     "output_type": "stream",
     "text": [
      "['R', '1.014892e+00', '5.543292e-01', '4.892807e+00', '1477010443050000', '8.599968e-01', '6.000449e-01', '5.199747e+00', '1.796856e-03', '3.455661e-04', '1.382155e-02\\n']\n"
     ]
    }
   ],
   "source": [
    "# Radar measurement\n",
    "\n",
    "line = readfile.readline()\n",
    "words = line.split('\\t')\n",
    "\n",
    "if words[0] != 'R':\n",
    "    print('Not radar data')\n",
    "    \n",
    "radar_rho_measured = words[1]\n",
    "radar_phi_measured = words[2]\n",
    "radar_rhodot_measured = words[3]\n",
    "timestamp = words[4]\n",
    "x_groundtruth = words[5]\n",
    "y_groundtruth = words[6]\n",
    "vx_groundtruth = words[7]\n",
    "vy_groundtruth = words[8]\n",
    "\n",
    "print(words)"
   ]
  },
  {
   "cell_type": "code",
   "execution_count": 44,
   "metadata": {},
   "outputs": [
    {
     "name": "stdout",
     "output_type": "stream",
     "text": [
      "[[1 2]\n",
      " [3 4]]\n"
     ]
    }
   ],
   "source": [
    "x = np.array([1, 2])\n",
    "A = np.array([[1, 2],[3, 4]])\n",
    "print(A*x[0])"
   ]
  },
  {
   "cell_type": "code",
   "execution_count": 46,
   "metadata": {},
   "outputs": [
    {
     "ename": "IndexError",
     "evalue": "too many indices for array",
     "output_type": "error",
     "traceback": [
      "\u001b[0;31m---------------------------------------------------------------------------\u001b[0m",
      "\u001b[0;31mIndexError\u001b[0m                                Traceback (most recent call last)",
      "\u001b[0;32m<ipython-input-46-879a04ce8a40>\u001b[0m in \u001b[0;36m<module>\u001b[0;34m\u001b[0m\n\u001b[0;32m----> 1\u001b[0;31m \u001b[0mx\u001b[0m\u001b[0;34m[\u001b[0m\u001b[0;34m:\u001b[0m\u001b[0;34m,\u001b[0m\u001b[0;36m0\u001b[0m\u001b[0;34m]\u001b[0m\u001b[0;34m\u001b[0m\u001b[0;34m\u001b[0m\u001b[0m\n\u001b[0m",
      "\u001b[0;31mIndexError\u001b[0m: too many indices for array"
     ]
    }
   ],
   "source": [
    "x[:,0]"
   ]
  },
  {
   "cell_type": "code",
   "execution_count": null,
   "metadata": {},
   "outputs": [],
   "source": []
  }
 ],
 "metadata": {
  "kernelspec": {
   "display_name": "Python 3",
   "language": "python",
   "name": "python3"
  },
  "language_info": {
   "codemirror_mode": {
    "name": "ipython",
    "version": 3
   },
   "file_extension": ".py",
   "mimetype": "text/x-python",
   "name": "python",
   "nbconvert_exporter": "python",
   "pygments_lexer": "ipython3",
   "version": "3.6.8"
  }
 },
 "nbformat": 4,
 "nbformat_minor": 2
}
