{
 "cells": [
  {
   "cell_type": "markdown",
   "metadata": {},
   "source": [
    "# Self-Driving Car Engineer Nanodegree\n",
    "\n",
    "## Deep Learning\n",
    "\n",
    "## Project: Build a Traffic Sign Recognition Classifier\n",
    "\n",
    "In this notebook, a template is provided for you to implement your functionality in stages, which is required to successfully complete this project. If additional code is required that cannot be included in the notebook, be sure that the Python code is successfully imported and included in your submission if necessary. \n",
    "\n",
    "> **Note**: Once you have completed all of the code implementations, you need to finalize your work by exporting the iPython Notebook as an HTML document. Before exporting the notebook to html, all of the code cells need to have been run so that reviewers can see the final implementation and output. You can then export the notebook by using the menu above and navigating to  \\n\",\n",
    "    \"**File -> Download as -> HTML (.html)**. Include the finished document along with this notebook as your submission. \n",
    "\n",
    "In addition to implementing code, there is a writeup to complete. The writeup should be completed in a separate file, which can be either a markdown file or a pdf document. There is a [write up template](https://github.com/udacity/CarND-Traffic-Sign-Classifier-Project/blob/master/writeup_template.md) that can be used to guide the writing process. Completing the code template and writeup template will cover all of the [rubric points](https://review.udacity.com/#!/rubrics/481/view) for this project.\n",
    "\n",
    "The [rubric](https://review.udacity.com/#!/rubrics/481/view) contains \"Stand Out Suggestions\" for enhancing the project beyond the minimum requirements. The stand out suggestions are optional. If you decide to pursue the \"stand out suggestions\", you can include the code in this Ipython notebook and also discuss the results in the writeup file.\n",
    "\n",
    "\n",
    ">**Note:** Code and Markdown cells can be executed using the **Shift + Enter** keyboard shortcut. In addition, Markdown cells can be edited by typically double-clicking the cell to enter edit mode."
   ]
  },
  {
   "cell_type": "markdown",
   "metadata": {},
   "source": [
    "---\n",
    "## Step 0: Load The Data"
   ]
  },
  {
   "cell_type": "code",
   "execution_count": 1,
   "metadata": {},
   "outputs": [],
   "source": [
    "# Load pickled data\n",
    "import pickle\n",
    "\n",
    "# TODO: Fill this in based on where you saved the training and testing data\n",
    "\n",
    "training_file = \"../../SDCND-Data/TrafficSignData/train.p\"\n",
    "#validation_file= \n",
    "testing_file = \"../../SDCND-Data/TrafficSignData/test.p\"\n",
    "\n",
    "with open(training_file, mode='rb') as f:\n",
    "    train = pickle.load(f)\n",
    "#with open(validation_file, mode='rb') as f:\n",
    "#    valid = pickle.load(f)\n",
    "with open(testing_file, mode='rb') as f:\n",
    "    test = pickle.load(f)\n",
    "    \n",
    "X_train, y_train = train['features'], train['labels']\n",
    "#X_valid, y_valid = valid['features'], valid['labels']\n",
    "X_test, y_test = test['features'], test['labels']"
   ]
  },
  {
   "cell_type": "code",
   "execution_count": 2,
   "metadata": {},
   "outputs": [],
   "source": [
    "from sklearn.utils import shuffle\n",
    "from sklearn.model_selection import train_test_split\n",
    "\n",
    "X_train, X_validation, y_train, y_validation = train_test_split(X_train, y_train, test_size=0.2, random_state=0)\n",
    "\n",
    "X_train, y_train = shuffle(X_train, y_train)"
   ]
  },
  {
   "cell_type": "markdown",
   "metadata": {},
   "source": [
    "---\n",
    "\n",
    "## Step 1: Dataset Summary & Exploration\n",
    "\n",
    "The pickled data is a dictionary with 4 key/value pairs:\n",
    "\n",
    "- `'features'` is a 4D array containing raw pixel data of the traffic sign images, (num examples, width, height, channels).\n",
    "- `'labels'` is a 1D array containing the label/class id of the traffic sign. The file `signnames.csv` contains id -> name mappings for each id.\n",
    "- `'sizes'` is a list containing tuples, (width, height) representing the original width and height the image.\n",
    "- `'coords'` is a list containing tuples, (x1, y1, x2, y2) representing coordinates of a bounding box around the sign in the image. **THESE COORDINATES ASSUME THE ORIGINAL IMAGE. THE PICKLED DATA CONTAINS RESIZED VERSIONS (32 by 32) OF THESE IMAGES**\n",
    "\n",
    "Complete the basic data summary below. Use python, numpy and/or pandas methods to calculate the data summary rather than hard coding the results. For example, the [pandas shape method](http://pandas.pydata.org/pandas-docs/stable/generated/pandas.DataFrame.shape.html) might be useful for calculating some of the summary results. "
   ]
  },
  {
   "cell_type": "markdown",
   "metadata": {},
   "source": [
    "### Provide a Basic Summary of the Data Set Using Python, Numpy and/or Pandas"
   ]
  },
  {
   "cell_type": "code",
   "execution_count": 3,
   "metadata": {},
   "outputs": [
    {
     "name": "stdout",
     "output_type": "stream",
     "text": [
      "Number of training examples = 31367\n",
      "Number of testing examples = 12630\n",
      "Image data shape = (32, 32, 3)\n",
      "Number of classes = 43\n"
     ]
    }
   ],
   "source": [
    "### Replace each question mark with the appropriate value. \n",
    "### Use python, pandas or numpy methods rather than hard coding the results\n",
    "\n",
    "# TODO: Number of training examples\n",
    "n_train = y_train.shape[0]\n",
    "\n",
    "# TODO: Number of validation examples\n",
    "n_validation = y_validation.shape[0]\n",
    "\n",
    "# TODO: Number of testing examples.\n",
    "n_test = y_test.shape[0]\n",
    "\n",
    "# TODO: What's the shape of an traffic sign image?\n",
    "image_shape = X_train[0].shape[0:]\n",
    "\n",
    "# TODO: How many unique classes/labels there are in the dataset.\n",
    "n_classes = 43\n",
    "\n",
    "print(\"Number of training examples =\", n_train)\n",
    "print(\"Number of testing examples =\", n_test)\n",
    "print(\"Image data shape =\", image_shape)\n",
    "print(\"Number of classes =\", n_classes)"
   ]
  },
  {
   "cell_type": "markdown",
   "metadata": {},
   "source": [
    "### Include an exploratory visualization of the dataset"
   ]
  },
  {
   "cell_type": "markdown",
   "metadata": {},
   "source": [
    "Visualize the German Traffic Signs Dataset using the pickled file(s). This is open ended, suggestions include: plotting traffic sign images, plotting the count of each sign, etc. \n",
    "\n",
    "The [Matplotlib](http://matplotlib.org/) [examples](http://matplotlib.org/examples/index.html) and [gallery](http://matplotlib.org/gallery.html) pages are a great resource for doing visualizations in Python.\n",
    "\n",
    "**NOTE:** It's recommended you start with something simple first. If you wish to do more, come back to it after you've completed the rest of the sections. It can be interesting to look at the distribution of classes in the training, validation and test set. Is the distribution the same? Are there more examples of some classes than others?"
   ]
  },
  {
   "cell_type": "code",
   "execution_count": 4,
   "metadata": {},
   "outputs": [],
   "source": [
    "import numpy as np\n",
    "sign_data = np.genfromtxt('signnames.csv', delimiter=',', dtype='unicode')\n",
    "sign_data = sign_data[1:]"
   ]
  },
  {
   "cell_type": "code",
   "execution_count": 5,
   "metadata": {},
   "outputs": [
    {
     "data": {
      "text/plain": [
       "Text(0.5, 1.0, 'Speed limit (30km/h)')"
      ]
     },
     "execution_count": 5,
     "metadata": {},
     "output_type": "execute_result"
    },
    {
     "data": {
      "image/png": "[encoded data removed]",
      "text/plain": [
       "<Figure size 144x144 with 1 Axes>"
      ]
     },
     "metadata": {
      "needs_background": "light"
     },
     "output_type": "display_data"
    }
   ],
   "source": [
    "### Data exploration visualization code goes here.\n",
    "### Feel free to use as many code cells as needed.\n",
    "import matplotlib.pyplot as plt\n",
    "# Visualizations will be shown in the notebook.\n",
    "%matplotlib inline\n",
    "import random\n",
    "import numpy as np\n",
    "\n",
    "index = random.randint(0, len(X_train))\n",
    "image = X_train[index].squeeze()\n",
    "\n",
    "plt.figure(figsize=(2,2))\n",
    "plt.imshow(image)\n",
    "title_str = sign_data[y_train[index],1]\n",
    "plt.title(title_str)"
   ]
  },
  {
   "cell_type": "markdown",
   "metadata": {},
   "source": [
    "----\n",
    "\n",
    "## Step 2: Design and Test a Model Architecture\n",
    "\n",
    "Design and implement a deep learning model that learns to recognize traffic signs. Train and test your model on the [German Traffic Sign Dataset](http://benchmark.ini.rub.de/?section=gtsrb&subsection=dataset).\n",
    "\n",
    "The LeNet-5 implementation shown in the [classroom](https://classroom.udacity.com/nanodegrees/nd013/parts/fbf77062-5703-404e-b60c-95b78b2f3f9e/modules/6df7ae49-c61c-4bb2-a23e-6527e69209ec/lessons/601ae704-1035-4287-8b11-e2c2716217ad/concepts/d4aca031-508f-4e0b-b493-e7b706120f81) at the end of the CNN lesson is a solid starting point. You'll have to change the number of classes and possibly the preprocessing, but aside from that it's plug and play! \n",
    "\n",
    "With the LeNet-5 solution from the lecture, you should expect a validation set accuracy of about 0.89. To meet specifications, the validation set accuracy will need to be at least 0.93. It is possible to get an even higher accuracy, but 0.93 is the minimum for a successful project submission. \n",
    "\n",
    "There are various aspects to consider when thinking about this problem:\n",
    "\n",
    "- Neural network architecture (is the network over or underfitting?)\n",
    "- Play around preprocessing techniques (normalization, rgb to grayscale, etc)\n",
    "- Number of examples per label (some have more than others).\n",
    "- Generate fake data.\n",
    "\n",
    "Here is an example of a [published baseline model on this problem](http://yann.lecun.com/exdb/publis/pdf/sermanet-ijcnn-11.pdf). It's not required to be familiar with the approach used in the paper but, it's good practice to try to read papers like these."
   ]
  },
  {
   "cell_type": "markdown",
   "metadata": {},
   "source": [
    "### Pre-process the Data Set (normalization, grayscale, etc.)"
   ]
  },
  {
   "cell_type": "markdown",
   "metadata": {},
   "source": [
    "Minimally, the image data should be normalized so that the data has mean zero and equal variance. For image data, `(pixel - 128)/ 128` is a quick way to approximately normalize the data and can be used in this project. \n",
    "\n",
    "Other pre-processing steps are optional. You can try different techniques to see if it improves performance. \n",
    "\n",
    "Use the code cell (or multiple code cells, if necessary) to implement the first step of your project."
   ]
  },
  {
   "cell_type": "code",
   "execution_count": 6,
   "metadata": {},
   "outputs": [],
   "source": [
    "### Preprocess the data here. It is required to normalize the data. Other preprocessing steps could include \n",
    "### converting to grayscale, etc.\n",
    "### Feel free to use as many code cells as needed.\n",
    "\n",
    "X_train_norm = np.copy(X_train)\n",
    "X_validation_norm = np.copy(X_validation)\n",
    "X_test_norm = np.copy(X_test)\n",
    "\n",
    "X_train_norm = (X_train_norm-128)/256\n",
    "X_validation_norm = (X_validation_norm-128)/256\n",
    "X_test_norm = (X_test_norm-128)/256\n"
   ]
  },
  {
   "cell_type": "markdown",
   "metadata": {},
   "source": [
    "### Model Architecture"
   ]
  },
  {
   "cell_type": "code",
   "execution_count": 7,
   "metadata": {},
   "outputs": [],
   "source": [
    "### Define your architecture here.\n",
    "### Feel free to use as many code cells as needed."
   ]
  },
  {
   "cell_type": "code",
   "execution_count": 8,
   "metadata": {},
   "outputs": [],
   "source": [
    "import tensorflow as tf\n",
    "from tensorflow.contrib.layers import flatten\n",
    "\n",
    "def LeNet(x):    \n",
    "    # Arguments used for tf.truncated_normal, randomly defines variables for the weights and biases for each layer\n",
    "    mu = 0\n",
    "    sigma = 0.1\n",
    "    \n",
    "    # Layer 1: Convolutional. Input = 32x32x1. Output = 28x28x6.\n",
    "    conv1_w = tf.Variable(tf.truncated_normal(shape = [5,5,3,6], mean=mu, stddev=sigma))\n",
    "    conv1_b = tf.Variable(tf.zeros(6))\n",
    "    conv1 = tf.nn.conv2d(x, conv1_w, strides = [1,1,1,1], padding='VALID') + conv1_b\n",
    "    \n",
    "    # output layer width with VALID padding = ceil((32-5+1)/1) = ceil(28/1) = 28\n",
    "    \n",
    "    # Formula 'SAME':\n",
    "    # out_height = ceil(float(in_height) / float(strides[1]))\n",
    "    # out_width  = ceil(float(in_width) / float(strides[2]))\n",
    "    \n",
    "    # Formula 'VALID':\n",
    "    # out_height = ceil(float(in_height - filter_height + 1) / float(strides[1]))\n",
    "    # out_width  = ceil(float(in_width - filter_width + 1) / float(strides[2]))\n",
    "    \n",
    "    \n",
    "    # Activation.\n",
    "    conv1 = tf.nn.relu(conv1)\n",
    "\n",
    "    # Pooling. Input = 28x28x6. Output = 14x14x6.\n",
    "    \n",
    "    pool_1 = tf.nn.max_pool(conv1, ksize=[1,2,2,1], strides=[1,2,2,1], padding='VALID')    \n",
    "    pool_1 = tf.nn.dropout(pool_1, keep_prob_conv)\n",
    "\n",
    "    \n",
    "    # Layer 2: Convolutional. Output = 10x10x16.\n",
    "    conv2_w = tf.Variable(tf.truncated_normal(shape=[5,5,6,16], mean=mu, stddev=sigma))\n",
    "    conv2_b = tf.Variable(tf.zeros(16))\n",
    "    conv2 = tf.nn.conv2d(pool_1, conv2_w, strides=[1,1,1,1], padding='VALID')\n",
    " \n",
    "    # output layer width with VALID padding = ceil((14-5+1)/2) = ceil(10/1)=10\n",
    "    \n",
    "    \n",
    "    # Activation.\n",
    "    conv2 = tf.nn.relu(conv2)\n",
    "\n",
    "    # Pooling. Input = 10x10x16. Output = 5x5x16.\n",
    "    pool_2 = tf.nn.max_pool(conv2, ksize=[1,2,2,1], strides=[1,2,2,1], padding='VALID')\n",
    "    pool_2 = tf.nn.dropout(pool_2, keep_prob_conv)\n",
    "\n",
    "    # Flatten. Input = 5x5x16. Output = 400.\n",
    "    \n",
    "    fc0 = tf.contrib.layers.flatten(pool_2)\n",
    "    \n",
    "    ADD_LAYER = True\n",
    "    if ADD_LAYER:\n",
    "        # Layer 3: Fully Connected. Input = 400. Output = 300.\n",
    "        fc1A_w = tf.Variable(tf.truncated_normal(shape = (400,300), mean=mu, stddev=sigma))\n",
    "        fc1A_b = tf.Variable(tf.zeros(300))\n",
    "        fc1A = tf.matmul(fc0,fc1A_w) + fc1A_b\n",
    "\n",
    "        # TODO: Activation.\n",
    "        fc1A = tf.nn.relu(fc1A)\n",
    "        fc1A = tf.nn.dropout(fc1A, keep_prob)\n",
    "        \n",
    "         # Layer 3: Fully Connected. Input = 300. Output = 200.\n",
    "        fc1_w = tf.Variable(tf.truncated_normal(shape = (300,120), mean=mu, stddev=sigma))\n",
    "        fc1_b = tf.Variable(tf.zeros(120))\n",
    "        fc1 = tf.matmul(fc1A,fc1_w) + fc1_b\n",
    "\n",
    "        # TODO: Activation.\n",
    "        fc1 = tf.nn.relu(fc1)\n",
    "        fc1 = tf.nn.dropout(fc1, keep_prob)       \n",
    "        \n",
    "    else:\n",
    "        # TODO: Layer 3: Fully Connected. Input = 400. Output = 120.\n",
    "        #fc1 = tf.layers.dense(fc1,400)\n",
    "        fc1_w = tf.Variable(tf.truncated_normal(shape = (400,120), mean=mu, stddev=sigma))\n",
    "        fc1_b = tf.Variable(tf.zeros(120))\n",
    "        fc1 = tf.matmul(fc0,fc1_w) + fc1_b\n",
    "\n",
    "        # TODO: Activation.\n",
    "        fc1 = tf.nn.relu(fc1)\n",
    "        fc1 = tf.nn.dropout(fc1, keep_prob)       \n",
    "    \n",
    "    \n",
    "    # TODO: Layer 4: Fully Connected. Input = 120. Output = 84.\n",
    "    #fc2 = tf.layers.dense(fc1,84)\n",
    "    fc2_w = tf.Variable(tf.truncated_normal(shape = (120,84), mean=mu, stddev=sigma))\n",
    "    fc2_b = tf.Variable(tf.zeros(84))\n",
    "    fc2 = tf.add(tf.matmul(fc1,fc2_w),fc2_b)\n",
    "    \n",
    "    # TODO: Activation.\n",
    "    fc2 = tf.nn.relu(fc2)\n",
    "    fc2 = tf.nn.dropout(fc2, keep_prob)\n",
    "    \n",
    "    \n",
    "    # TODO: Layer 5: Fully Connected. Input = 84. Output = 43.\n",
    "    #logits = tf.layers.dense(fc2,43)\n",
    "    logits_w = tf.Variable(tf.truncated_normal(shape=(84, 43), mean=mu, stddev=sigma))\n",
    "    logits_b = tf.Variable(tf.zeros(43))\n",
    "    logits =  tf.add((tf.matmul(fc2,logits_w)), logits_b)\n",
    "    \n",
    "    return logits, logits_w"
   ]
  },
  {
   "cell_type": "markdown",
   "metadata": {},
   "source": [
    "### Train, Validate and Test the Model"
   ]
  },
  {
   "cell_type": "markdown",
   "metadata": {},
   "source": [
    "A validation set can be used to assess how well the model is performing. A low accuracy on the training and validation\n",
    "sets imply underfitting. A high accuracy on the training set but low accuracy on the validation set implies overfitting."
   ]
  },
  {
   "cell_type": "code",
   "execution_count": 9,
   "metadata": {},
   "outputs": [],
   "source": [
    "### Train your model here.\n",
    "### Calculate and report the accuracy on the training and validation set.\n",
    "### Once a final model architecture is selected, \n",
    "### the accuracy on the test set should be calculated and reported as well.\n",
    "### Feel free to use as many code cells as needed."
   ]
  },
  {
   "cell_type": "code",
   "execution_count": 10,
   "metadata": {},
   "outputs": [],
   "source": [
    "x = tf.placeholder(tf.float32, (None, 32, 32, 3))\n",
    "y = tf.placeholder(tf.int32, (None))\n",
    "one_hot_y = tf.one_hot(y, 43)\n",
    "\n",
    "keep_prob = tf.placeholder(tf.float32)       # For fully-connected layers\n",
    "keep_prob_conv = tf.placeholder(tf.float32)  # For convolutional layers"
   ]
  },
  {
   "cell_type": "code",
   "execution_count": 11,
   "metadata": {},
   "outputs": [],
   "source": [
    "rate = 0.0006\n",
    "beta = 0.00\n",
    "\n",
    "logits, logits_w = LeNet(x)\n",
    "cross_entropy = tf.nn.softmax_cross_entropy_with_logits_v2(labels=one_hot_y, logits=logits)\n",
    "loss_operation = tf.reduce_mean(cross_entropy + beta*tf.nn.l2_loss(logits_w))\n",
    "optimizer = tf.train.AdamOptimizer(learning_rate = rate)\n",
    "training_operation = optimizer.minimize(loss_operation)"
   ]
  },
  {
   "cell_type": "code",
   "execution_count": 12,
   "metadata": {},
   "outputs": [],
   "source": [
    "correct_prediction = tf.equal(tf.argmax(logits, 1), tf.argmax(one_hot_y, 1))\n",
    "accuracy_operation = tf.reduce_mean(tf.cast(correct_prediction, tf.float32))\n",
    "saver = tf.train.Saver()\n",
    "\n",
    "def evaluate(X_data, y_data):\n",
    "    num_examples = len(X_data)\n",
    "    total_accuracy = 0\n",
    "    sess = tf.get_default_session()\n",
    "    for offset in range(0, num_examples, BATCH_SIZE):\n",
    "        batch_x, batch_y = X_data[offset:offset+BATCH_SIZE], y_data[offset:offset+BATCH_SIZE]\n",
    "        accuracy = sess.run(accuracy_operation, feed_dict= \\\n",
    "                            {x: batch_x, y: batch_y, keep_prob: 1.0, keep_prob_conv: 1.0})\n",
    "        total_accuracy += (accuracy * len(batch_x))\n",
    "    return total_accuracy / num_examples"
   ]
  },
  {
   "cell_type": "code",
   "execution_count": 15,
   "metadata": {},
   "outputs": [
    {
     "name": "stdout",
     "output_type": "stream",
     "text": [
      "Training...\n",
      "\n",
      "EPOCH 1 ...\n",
      "Validation Accuracy = 0.099\n",
      "\n",
      "EPOCH 2 ...\n",
      "Validation Accuracy = 0.200\n",
      "\n",
      "EPOCH 3 ...\n",
      "Validation Accuracy = 0.350\n",
      "\n",
      "EPOCH 4 ...\n",
      "Validation Accuracy = 0.400\n",
      "\n",
      "EPOCH 5 ...\n",
      "Validation Accuracy = 0.461\n",
      "\n",
      "EPOCH 6 ...\n",
      "Validation Accuracy = 0.516\n",
      "\n",
      "EPOCH 7 ...\n",
      "Validation Accuracy = 0.561\n",
      "\n",
      "EPOCH 8 ...\n",
      "Validation Accuracy = 0.617\n",
      "\n",
      "EPOCH 9 ...\n",
      "Validation Accuracy = 0.647\n",
      "\n",
      "EPOCH 10 ...\n",
      "Validation Accuracy = 0.668\n",
      "\n",
      "EPOCH 11 ...\n",
      "Validation Accuracy = 0.702\n",
      "\n",
      "EPOCH 12 ...\n",
      "Validation Accuracy = 0.709\n",
      "\n",
      "EPOCH 13 ...\n",
      "Validation Accuracy = 0.736\n",
      "\n",
      "EPOCH 14 ...\n",
      "Validation Accuracy = 0.757\n",
      "\n",
      "EPOCH 15 ...\n",
      "Validation Accuracy = 0.772\n",
      "\n",
      "EPOCH 16 ...\n",
      "Validation Accuracy = 0.779\n",
      "\n",
      "EPOCH 17 ...\n",
      "Validation Accuracy = 0.791\n",
      "\n",
      "EPOCH 18 ...\n",
      "Validation Accuracy = 0.803\n",
      "\n",
      "EPOCH 19 ...\n",
      "Validation Accuracy = 0.792\n",
      "\n",
      "EPOCH 20 ...\n",
      "Validation Accuracy = 0.814\n",
      "\n",
      "EPOCH 21 ...\n",
      "Validation Accuracy = 0.828\n",
      "\n",
      "EPOCH 22 ...\n",
      "Validation Accuracy = 0.833\n",
      "\n",
      "EPOCH 23 ...\n",
      "Validation Accuracy = 0.831\n",
      "\n",
      "EPOCH 24 ...\n",
      "Validation Accuracy = 0.840\n",
      "\n",
      "EPOCH 25 ...\n",
      "Validation Accuracy = 0.844\n",
      "\n",
      "EPOCH 26 ...\n",
      "Validation Accuracy = 0.846\n",
      "\n",
      "EPOCH 27 ...\n",
      "Validation Accuracy = 0.854\n",
      "\n",
      "EPOCH 28 ...\n",
      "Validation Accuracy = 0.859\n",
      "\n",
      "EPOCH 29 ...\n",
      "Validation Accuracy = 0.858\n",
      "\n",
      "EPOCH 30 ...\n",
      "Validation Accuracy = 0.865\n",
      "\n",
      "EPOCH 31 ...\n",
      "Validation Accuracy = 0.864\n",
      "\n",
      "EPOCH 32 ...\n",
      "Validation Accuracy = 0.872\n",
      "\n",
      "EPOCH 33 ...\n",
      "Validation Accuracy = 0.875\n",
      "\n",
      "EPOCH 34 ...\n",
      "Validation Accuracy = 0.880\n",
      "\n",
      "EPOCH 35 ...\n",
      "Validation Accuracy = 0.881\n",
      "\n",
      "EPOCH 36 ...\n",
      "Validation Accuracy = 0.881\n",
      "\n",
      "EPOCH 37 ...\n",
      "Validation Accuracy = 0.894\n",
      "\n",
      "EPOCH 38 ...\n",
      "Validation Accuracy = 0.876\n",
      "\n",
      "EPOCH 39 ...\n",
      "Validation Accuracy = 0.889\n",
      "\n",
      "EPOCH 40 ...\n",
      "Validation Accuracy = 0.894\n",
      "\n",
      "EPOCH 41 ...\n",
      "Validation Accuracy = 0.891\n",
      "\n",
      "EPOCH 42 ...\n",
      "Validation Accuracy = 0.901\n",
      "\n",
      "EPOCH 43 ...\n",
      "Validation Accuracy = 0.903\n",
      "\n",
      "EPOCH 44 ...\n",
      "Validation Accuracy = 0.904\n",
      "\n",
      "EPOCH 45 ...\n",
      "Validation Accuracy = 0.904\n",
      "\n",
      "EPOCH 46 ...\n",
      "Validation Accuracy = 0.913\n",
      "\n",
      "EPOCH 47 ...\n",
      "Validation Accuracy = 0.906\n",
      "\n",
      "EPOCH 48 ...\n",
      "Validation Accuracy = 0.913\n",
      "\n",
      "EPOCH 49 ...\n",
      "Validation Accuracy = 0.908\n",
      "\n",
      "EPOCH 50 ...\n",
      "Validation Accuracy = 0.907\n",
      "\n",
      "EPOCH 51 ...\n",
      "Validation Accuracy = 0.914\n",
      "\n",
      "EPOCH 52 ...\n",
      "Validation Accuracy = 0.915\n",
      "\n",
      "EPOCH 53 ...\n",
      "Validation Accuracy = 0.920\n",
      "\n",
      "EPOCH 54 ...\n",
      "Validation Accuracy = 0.919\n",
      "\n",
      "EPOCH 55 ...\n",
      "Validation Accuracy = 0.920\n",
      "\n",
      "EPOCH 56 ...\n",
      "Validation Accuracy = 0.924\n",
      "\n",
      "EPOCH 57 ...\n",
      "Validation Accuracy = 0.923\n",
      "\n",
      "EPOCH 58 ...\n",
      "Validation Accuracy = 0.919\n",
      "\n",
      "EPOCH 59 ...\n",
      "Validation Accuracy = 0.920\n",
      "\n",
      "EPOCH 60 ...\n",
      "Validation Accuracy = 0.925\n",
      "\n",
      "EPOCH 61 ...\n",
      "Validation Accuracy = 0.917\n",
      "\n",
      "EPOCH 62 ...\n",
      "Validation Accuracy = 0.929\n",
      "\n",
      "EPOCH 63 ...\n",
      "Validation Accuracy = 0.927\n",
      "\n",
      "EPOCH 64 ...\n",
      "Validation Accuracy = 0.918\n",
      "\n",
      "EPOCH 65 ...\n",
      "Validation Accuracy = 0.928\n",
      "\n",
      "EPOCH 66 ...\n",
      "Validation Accuracy = 0.928\n",
      "\n",
      "EPOCH 67 ...\n",
      "Validation Accuracy = 0.932\n",
      "\n",
      "EPOCH 68 ...\n",
      "Validation Accuracy = 0.934\n",
      "\n",
      "EPOCH 69 ...\n",
      "Validation Accuracy = 0.933\n",
      "\n",
      "EPOCH 70 ...\n",
      "Validation Accuracy = 0.929\n",
      "\n",
      "EPOCH 71 ...\n",
      "Validation Accuracy = 0.932\n",
      "\n",
      "EPOCH 72 ...\n",
      "Validation Accuracy = 0.933\n",
      "\n",
      "EPOCH 73 ...\n",
      "Validation Accuracy = 0.934\n",
      "\n",
      "EPOCH 74 ...\n",
      "Validation Accuracy = 0.933\n",
      "\n",
      "EPOCH 75 ...\n",
      "Validation Accuracy = 0.938\n",
      "\n",
      "EPOCH 76 ...\n",
      "Validation Accuracy = 0.932\n",
      "\n",
      "EPOCH 77 ...\n",
      "Validation Accuracy = 0.935\n",
      "\n",
      "EPOCH 78 ...\n",
      "Validation Accuracy = 0.939\n",
      "\n",
      "EPOCH 79 ...\n",
      "Validation Accuracy = 0.934\n",
      "\n",
      "EPOCH 80 ...\n",
      "Validation Accuracy = 0.939\n",
      "\n",
      "Model saved\n"
     ]
    }
   ],
   "source": [
    "EPOCHS = 80\n",
    "BATCH_SIZE = 128\n",
    "\n",
    "VARYING_PROB = False\n",
    "if VARYING_PROB:\n",
    "    prob_step=(1.0-0.5)/EPOCHS\n",
    "    prob=1.0\n",
    "else:\n",
    "    prob_step = 0.0\n",
    "    prob = 0.5\n",
    "\n",
    "RESTORE = False\n",
    "\n",
    "if RESTORE:\n",
    "    sess=tf.Session()    \n",
    "    \n",
    "    saver = tf.train.import_meta_graph('./lenet_test.meta')\n",
    "    saver.restore(sess,tf.train.latest_checkpoint('./'))\n",
    "    \n",
    "    #import pickle\n",
    "    #with open('validation_accuracy.pickle', 'rb') as f:\n",
    "    #    validation_accuracy = pickle.load(f)\n",
    "    \n",
    "    print(\"Model restored\")\n",
    "    \n",
    "else:\n",
    "    with tf.Session() as sess:\n",
    "        sess.run(tf.global_variables_initializer())\n",
    "\n",
    "        num_examples = len(X_train)\n",
    "\n",
    "        print(\"Training...\")\n",
    "        print()\n",
    "        validation_accuracy = np.zeros(EPOCHS)\n",
    "\n",
    "        for i in range(EPOCHS):\n",
    "            X_train_norm, y_train = shuffle(X_train_norm, y_train)\n",
    "            for offset in range(0, num_examples, BATCH_SIZE):\n",
    "                end = offset + BATCH_SIZE\n",
    "                batch_x, batch_y = X_train_norm[offset:end], y_train[offset:end]\n",
    "                sess.run(training_operation, feed_dict=\\\n",
    "                         {x: batch_x, y: batch_y, keep_prob: prob, keep_prob_conv: 1.0})\n",
    "\n",
    "            validation_accuracy[i] = evaluate(X_validation_norm, y_validation)\n",
    "            print(\"EPOCH {} ...\".format(i+1))\n",
    "            print(\"Validation Accuracy = {:.3f}\".format(validation_accuracy[i]))\n",
    "            print()\n",
    "\n",
    "            prob -= prob_step\n",
    "\n",
    "        saver.save(sess, './lenet')\n",
    "        \n",
    "        import pickle\n",
    "        with open('validation_accuracy.pickle', 'wb') as f:\n",
    "            pickle.dump(validation_accuracy,f)\n",
    "        \n",
    "        print(\"Model saved\")"
   ]
  },
  {
   "cell_type": "code",
   "execution_count": 21,
   "metadata": {},
   "outputs": [
    {
     "data": {
      "image/png": "[encoded data removed]",
      "text/plain": [
       "<Figure size 432x288 with 1 Axes>"
      ]
     },
     "metadata": {
      "needs_background": "light"
     },
     "output_type": "display_data"
    }
   ],
   "source": [
    "if RESTORE:\n",
    "    #import matplotlib.image as mpimg\n",
    "    #import matplotlib as mpl\n",
    "    #mpl.rcParams['figure.dpi']= 150\n",
    "    #img=mpimg.imread('training-lenetmod-final.png')\n",
    "    #imgplot = plt.imshow(img)\n",
    "    \n",
    "    import pickle\n",
    "    with open('validation_accuracy.pickle', 'rb') as f:\n",
    "        validation_accuracy = pickle.load(f)\n",
    "        \n",
    "    plt.figure(1)\n",
    "    epochs = range(EPOCHS)\n",
    "    plt.plot(epochs,validation_accuracy,epochs,np.ones(EPOCHS))\n",
    "    plt.xlabel('epochs')\n",
    "    plt.ylabel('validation accuracy')\n",
    "    plt.title('Validation Accuracy vs Epochs')\n",
    "    \n",
    "    \n",
    "else:    \n",
    "    plt.figure(1)\n",
    "    epochs = range(EPOCHS)\n",
    "    plt.plot(epochs,validation_accuracy,epochs,np.ones(EPOCHS))\n",
    "    plt.xlabel('epochs')\n",
    "    plt.ylabel('validation accuracy')\n",
    "    plt.title('Validation Accuracy vs Epochs')"
   ]
  },
  {
   "cell_type": "code",
   "execution_count": 22,
   "metadata": {},
   "outputs": [
    {
     "name": "stdout",
     "output_type": "stream",
     "text": [
      "INFO:tensorflow:Restoring parameters from ./lenet\n",
      "Test Accuracy = 0.817\n"
     ]
    }
   ],
   "source": [
    "with tf.Session() as sess:\n",
    "    saver.restore(sess, tf.train.latest_checkpoint('.'))\n",
    "\n",
    "    test_accuracy = evaluate(X_test_norm, y_test)\n",
    "    print(\"Test Accuracy = {:.3f}\".format(test_accuracy))"
   ]
  },
  {
   "cell_type": "markdown",
   "metadata": {},
   "source": [
    "### Experimentation with Hyperparameters\n",
    "\n",
    "LeNet\n",
    "\n",
    "| rate | beta | EPOCHS | BATCH-SIZE | keep_prob | keep_prob_conv | validaion accuracy | test accuracy |converged| \n",
    "|:----:|:----:|:------:|:----------:|:---------:|:--------------:|:------------------:|:-------------:|:------:| \n",
    "|0.001 | 0.01 | 20     |  128       | 1.0       |1.0             | 0.915              |  0.760        | no     | \n",
    "|0.001 | 0.00 | 20     |  128       | 0.5       |1.0             | 0.851              |  0.752        | no     |\n",
    "|0.001 | 0.00 | 20     |  128       | 1.0       |0.5             | 0.809              |  0.663        | noisy  |\n",
    "|0.001 | 0.00 | 20     |  128       | 0.5       |0.5             | 0.629              |  0.525   |almost, noisy|\n",
    "|0.001 | 0.05 | 20     |  128       | 1.0       |1.0             | 0.895              |  0.733        | almost | \n",
    "|0.001 | 0.00 | 40     |  128       | 0.5       |1.0             | 0.894              |  0.779        | no     |\n",
    "|0.0008| 0.00 | 40     |  128       | 0.5       |1.0             | 0.909              |  0.800        | no     |\n",
    "|0.0006| 0.00 | 80     |  128       | 0.5       |1.0             | 0.919              |  0.809        |almost  |\n",
    "|0.0005| 0.00 |100     |  128       | 0.5       |1.0             | 0.914              |  0.807        |almost  |\n",
    "\n",
    "LeNet baseline data:\n",
    "\n",
    "| rate | beta | EPOCHS | BATCH-SIZE | keep_prob | keep_prob_conv | validaion accuracy | test accuracy |converged| \n",
    "|:----:|:----:|:------:|:----------:|:---------:|:--------------:|:------------------:|:-------------:|:------:| \n",
    "|0.0006| 0.00 | 20     |  128       | 0.5       |1.0             | 0.819              |  0.729        |no  |\n",
    "|0.0006| 0.00 | 80     |  128       | 0.5       |1.0             | 0.919              |  0.809        |almost  |\n",
    "\n",
    "Modification 1: Added fully connected layer 400x300 \n",
    "\n",
    "| rate | beta | EPOCHS | BATCH-SIZE | keep_prob | keep_prob_conv | validaion accuracy | test accuracy |converged| \n",
    "|:----:|:----:|:------:|:----------:|:---------:|:--------------:|:------------------:|:-------------:|:------:| \n",
    "|0.0006| 0.00 | 20     |  128       | 0.5       |1.0             | 0.786              |  0.702        |no   |\n",
    "|0.0006| 0.00 | 80     |  128       | 0.5       |1.0             | 0.938              |  0.819        |yes |\n",
    "|0.0005| 0.00 | 80     |  128       | 0.5       |1.0             | 0.934              |  0.809        |yes  |\n",
    "|0.0008| 0.00 | 80     |  128       | 0.5       |1.0             | 0.931              |  0.805        |yes  |\n",
    "\n",
    "Modification 2: Modification 1 + keep_probability linearly decreasing from 1.0 to 0.50\n",
    "\n",
    "| rate | beta | EPOCHS | BATCH-SIZE | keep_prob | keep_prob_conv | validaion accuracy | test accuracy |converged| \n",
    "|:----:|:----:|:------:|:----------:|:---------:|:--------------:|:------------------:|:-------------:|:------:| \n",
    "|0.0006| 0.00 | 80     |  128       | 0.5       |1.0             | 0.947              |  0.810   |yes, after 40 |\n",
    "\n",
    "The training accuracy (0.947) is good, but the difference between the test accuracy and training accuracy indicates there may have been overfitting. Testing with the 5 new images show that test accuracy is 40% which confirms the conjecture.\n",
    "\n",
    "Accepted solution: Modification 1 with learning rate 0.0006\n",
    "\n",
    "Rerunning shows the accuracy of the final solution\n",
    "\n",
    "| rate | beta | EPOCHS | BATCH-SIZE | keep_prob | keep_prob_conv | validaion accuracy | test accuracy |converged| \n",
    "|:----:|:----:|:------:|:----------:|:---------:|:--------------:|:------------------:|:-------------:|:------:| \n",
    "|0.0006| 0.00 | 80     |  128       | 0.5       |1.0             | 0.939             |  0.817        |yes* |"
   ]
  },
  {
   "cell_type": "markdown",
   "metadata": {},
   "source": [
    "### Find the misclassified images"
   ]
  },
  {
   "cell_type": "code",
   "execution_count": 23,
   "metadata": {},
   "outputs": [
    {
     "name": "stdout",
     "output_type": "stream",
     "text": [
      "INFO:tensorflow:Restoring parameters from ./lenet\n",
      "Detected:\n",
      "[ 2. 21.  5.  8. 11.  1. 15. 10.  2. 19. 21.  5. 22.  4. 18. 10.  1.  2.\n",
      " 11.  2. 30. 30.]\n",
      "Actual:\n",
      "[ 7. 23.  7.  9. 27.  3. 13.  9.  5. 23. 24.  3. 18.  8. 25.  9.  4.  5.\n",
      " 30.  1. 25. 25.]\n",
      "\n"
     ]
    }
   ],
   "source": [
    "mistake_prediction = tf.not_equal(tf.argmax(logits, 1), tf.argmax(one_hot_y, 1))\n",
    "tf_detected = tf.argmax(logits,1)\n",
    "tf_actual = tf.argmax(one_hot_y,1)\n",
    "\n",
    "BATCH_SIZE = 25\n",
    "\n",
    "def find_mistakes(X_data, y_data):\n",
    "    num_examples = len(X_data)\n",
    "    idx_mistakes = []\n",
    "    detected = []\n",
    "    actual = []\n",
    "    sess = tf.get_default_session()\n",
    "    for offset in range(0, num_examples, BATCH_SIZE):\n",
    "        batch_x, batch_y = X_data[offset:offset+BATCH_SIZE], y_data[offset:offset+BATCH_SIZE]\n",
    "        mistakes = sess.run(mistake_prediction, feed_dict=\\\n",
    "                            {x: batch_x, y: batch_y, keep_prob: 1.0, keep_prob_conv: 1.0})\n",
    "        idx_k_mistakes = np.argwhere(mistakes==True)\n",
    "        idx_k_mistakes = idx_k_mistakes[:,0]\n",
    "        idx_mistakes = np.append(idx_mistakes,idx_k_mistakes+offset)\n",
    "\n",
    "        if idx_k_mistakes.size != 0:\n",
    "            detected_k = sess.run(tf_detected, feed_dict=\\\n",
    "                            {x: batch_x, y: batch_y, keep_prob: 1.0, keep_prob_conv: 1.0})\n",
    "            actual_k = sess.run(tf_actual, feed_dict=\\\n",
    "                            {x: batch_x, y: batch_y, keep_prob: 1.0, keep_prob_conv: 1.0})\n",
    "        \n",
    "            detected = np.append(detected, detected_k[idx_k_mistakes])\n",
    "            actual = np.append(actual, actual_k[idx_k_mistakes])\n",
    "\n",
    "    return idx_mistakes, detected, actual\n",
    "\n",
    "X_data = X_test[:100]\n",
    "X_data_norm = X_test_norm[:100]\n",
    "y_data = y_test[:100]\n",
    "\n",
    "with tf.Session() as sess:\n",
    "    sess.run(tf.global_variables_initializer())\n",
    "    saver.restore(sess, tf.train.latest_checkpoint('.'))\n",
    "    idx_mistakes, detected, actual = find_mistakes(X_data_norm, y_data)\n",
    "    idx_mistakes = idx_mistakes.reshape(1,-1)\n",
    "    idx_mistakes = idx_mistakes[0]\n",
    "    print('Detected:')\n",
    "    print(detected)\n",
    "    print('Actual:')\n",
    "    print(actual)\n",
    "    print()\n",
    "    "
   ]
  },
  {
   "cell_type": "markdown",
   "metadata": {},
   "source": [
    "### Show the misclassied images"
   ]
  },
  {
   "cell_type": "code",
   "execution_count": 24,
   "metadata": {},
   "outputs": [
    {
     "data": {
      "image/png": "[encoded data removed]",
      "text/plain": [
       "<Figure size 144x144 with 1 Axes>"
      ]
     },
     "metadata": {
      "needs_background": "light"
     },
     "output_type": "display_data"
    },
    {
     "data": {
      "image/png": "[encoded data removed]",
      "text/plain": [
       "<Figure size 144x144 with 1 Axes>"
      ]
     },
     "metadata": {
      "needs_background": "light"
     },
     "output_type": "display_data"
    },
    {
     "data": {
      "image/png": "[encoded data removed]",
      "text/plain": [
       "<Figure size 144x144 with 1 Axes>"
      ]
     },
     "metadata": {
      "needs_background": "light"
     },
     "output_type": "display_data"
    },
    {
     "data": {
      "image/png": "[encoded data removed]",
      "text/plain": [
       "<Figure size 144x144 with 1 Axes>"
      ]
     },
     "metadata": {
      "needs_background": "light"
     },
     "output_type": "display_data"
    },
    {
     "data": {
      "image/png": "[encoded data removed]",
      "text/plain": [
       "<Figure size 144x144 with 1 Axes>"
      ]
     },
     "metadata": {
      "needs_background": "light"
     },
     "output_type": "display_data"
    }
   ],
   "source": [
    "n = len(idx_mistakes)\n",
    "for i in range(5):\n",
    "    idx = np.int(idx_mistakes[i])\n",
    "    img = X_data[idx].reshape(32,32,3)\n",
    "    plt.figure(i,figsize=(2,2))\n",
    "    plt.imshow(img)\n",
    "    true_idx = int(actual[i])\n",
    "    true_str = sign_data[true_idx,1]\n",
    "    detected_idx = int(detected[i])\n",
    "    detected_str = sign_data[detected_idx,1]\n",
    "    plt.title('True=' + true_str + ',  ID=' + detected_str)"
   ]
  },
  {
   "cell_type": "markdown",
   "metadata": {},
   "source": [
    "---\n",
    "\n",
    "## Step 3: Test a Model on New Images\n",
    "\n",
    "To give yourself more insight into how your model is working, download at least five pictures of German traffic signs from the web and use your model to predict the traffic sign type.\n",
    "\n",
    "You may find `signnames.csv` useful as it contains mappings from the class id (integer) to the actual sign name."
   ]
  },
  {
   "cell_type": "markdown",
   "metadata": {},
   "source": [
    "### Load and Output the Images"
   ]
  },
  {
   "cell_type": "code",
   "execution_count": 25,
   "metadata": {},
   "outputs": [],
   "source": [
    "import matplotlib.image as mpimg"
   ]
  },
  {
   "cell_type": "code",
   "execution_count": 26,
   "metadata": {},
   "outputs": [
    {
     "data": {
      "image/png": "[encoded data removed]",
      "text/plain": [
       "<Figure size 144x144 with 1 Axes>"
      ]
     },
     "metadata": {
      "needs_background": "light"
     },
     "output_type": "display_data"
    },
    {
     "data": {
      "image/png": "[encoded data removed]",
      "text/plain": [
       "<Figure size 144x144 with 1 Axes>"
      ]
     },
     "metadata": {
      "needs_background": "light"
     },
     "output_type": "display_data"
    },
    {
     "data": {
      "image/png": "[encoded data removed]",
      "text/plain": [
       "<Figure size 144x144 with 1 Axes>"
      ]
     },
     "metadata": {
      "needs_background": "light"
     },
     "output_type": "display_data"
    },
    {
     "data": {
      "image/png": "[encoded data removed]",
      "text/plain": [
       "<Figure size 144x144 with 1 Axes>"
      ]
     },
     "metadata": {
      "needs_background": "light"
     },
     "output_type": "display_data"
    },
    {
     "data": {
      "image/png": "[encoded data removed]",
      "text/plain": [
       "<Figure size 144x144 with 1 Axes>"
      ]
     },
     "metadata": {
      "needs_background": "light"
     },
     "output_type": "display_data"
    }
   ],
   "source": [
    "### Load the images and plot them here.\n",
    "### Feel free to use as many code cells as needed.\n",
    "\n",
    "# sign1r - roadwork - 25\n",
    "# sign2r - children crossing - 28\n",
    "# signr3 - no enrty - 17\n",
    "# signr4 - yeild - 13\n",
    "# signr5 - speed limit (50km/h) - 2\n",
    "\n",
    "y_newtest = [25, 28, 17, 13, 2]\n",
    "X_newtest = np.zeros((5,32,32,3),dtype='uint8')\n",
    "\n",
    "for i in range(5):\n",
    "    img_file = 'new-images/' + 'signr' + str(int(i+1)) + '.jpg'\n",
    "    img = mpimg.imread(img_file)\n",
    "    plt.figure(figsize=(2,2))\n",
    "    plt.imshow(img)\n",
    "    true_str = sign_data[y_newtest[i],1]\n",
    "    plt.title(true_str)\n",
    "    X_newtest[i]=img\n"
   ]
  },
  {
   "cell_type": "markdown",
   "metadata": {},
   "source": [
    "### Predict the Sign Type for Each Image"
   ]
  },
  {
   "cell_type": "code",
   "execution_count": 27,
   "metadata": {},
   "outputs": [],
   "source": [
    "### Run the predictions here and use the model to output the prediction for each image.\n",
    "### Make sure to pre-process the images with the same pre-processing pipeline used earlier.\n",
    "### Feel free to use as many code cells as needed.\n"
   ]
  },
  {
   "cell_type": "code",
   "execution_count": 28,
   "metadata": {},
   "outputs": [
    {
     "name": "stdout",
     "output_type": "stream",
     "text": [
      "Show mistakes:\n",
      "INFO:tensorflow:Restoring parameters from ./lenet\n",
      "Detected:\n",
      "[1. 5.]\n",
      "Actual:\n",
      "[25. 28.]\n",
      "\n"
     ]
    },
    {
     "data": {
      "image/png": "[encoded data removed]",
      "text/plain": [
       "<Figure size 144x144 with 1 Axes>"
      ]
     },
     "metadata": {
      "needs_background": "light"
     },
     "output_type": "display_data"
    },
    {
     "data": {
      "image/png": "[encoded data removed]",
      "text/plain": [
       "<Figure size 144x144 with 1 Axes>"
      ]
     },
     "metadata": {
      "needs_background": "light"
     },
     "output_type": "display_data"
    }
   ],
   "source": [
    "X_newtest_norm = np.copy(X_newtest)\n",
    "X_newtest_norm = (X_newtest-128)/256\n",
    "\n",
    "print('Show mistakes:')\n",
    "\n",
    "with tf.Session() as sess:\n",
    "    sess.run(tf.global_variables_initializer())\n",
    "    saver.restore(sess, tf.train.latest_checkpoint('.'))\n",
    "    idx_mistakes, detected, actual = find_mistakes(X_newtest_norm, y_newtest)\n",
    "    idx_mistakes = idx_mistakes.reshape(1,-1)\n",
    "    idx_mistakes = idx_mistakes[0]\n",
    "    print('Detected:')\n",
    "    print(detected)\n",
    "    print('Actual:')\n",
    "    print(actual)\n",
    "    print()\n",
    " \n",
    "n = len(idx_mistakes)\n",
    "for i in range(n):\n",
    "    idx = np.int(idx_mistakes[i])\n",
    "    img = X_newtest[idx].reshape(32,32,3)\n",
    "    plt.figure(i,figsize=(2,2))\n",
    "    plt.imshow(img)\n",
    "    true_idx = int(actual[i])\n",
    "    true_str = sign_data[true_idx,1]\n",
    "    detected_idx = int(detected[i])\n",
    "    detected_str = sign_data[detected_idx,1]\n",
    "    plt.title('True=' + true_str + ', ID=' + detected_str)\n"
   ]
  },
  {
   "cell_type": "markdown",
   "metadata": {},
   "source": [
    "### Analyze Performance"
   ]
  },
  {
   "cell_type": "code",
   "execution_count": 29,
   "metadata": {},
   "outputs": [
    {
     "name": "stdout",
     "output_type": "stream",
     "text": [
      "INFO:tensorflow:Restoring parameters from ./lenet\n",
      "Test Accuracy = 0.600\n"
     ]
    }
   ],
   "source": [
    "### Calculate the accuracy for these 5 new images. \n",
    "### For example, if the model predicted 1 out of 5 signs correctly, it's 20% accurate on these new images.\n",
    "\n",
    "with tf.Session() as sess:\n",
    "    saver.restore(sess, tf.train.latest_checkpoint('.'))\n",
    "\n",
    "    test_accuracy = evaluate(X_newtest_norm, y_newtest)\n",
    "    print(\"Test Accuracy = {:.3f}\".format(test_accuracy))"
   ]
  },
  {
   "cell_type": "markdown",
   "metadata": {},
   "source": [
    "### Output Top 5 Softmax Probabilities For Each Image Found on the Web"
   ]
  },
  {
   "cell_type": "markdown",
   "metadata": {},
   "source": [
    "For each of the new images, print out the model's softmax probabilities to show the **certainty** of the model's predictions (limit the output to the top 5 probabilities for each image). [`tf.nn.top_k`](https://www.tensorflow.org/versions/r0.12/api_docs/python/nn.html#top_k) could prove helpful here. \n",
    "\n",
    "The example below demonstrates how tf.nn.top_k can be used to find the top k predictions for each image.\n",
    "\n",
    "`tf.nn.top_k` will return the values and indices (class ids) of the top k predictions. So if k=3, for each sign, it'll return the 3 largest probabilities (out of a possible 43) and the correspoding class ids.\n",
    "\n",
    "Take this numpy array as an example. The values in the array represent predictions. The array contains softmax probabilities for five candidate images with six possible classes. `tf.nn.top_k` is used to choose the three classes with the highest probability:\n",
    "\n",
    "```\n",
    "# (5, 6) array\n",
    "a = np.array([[ 0.24879643,  0.07032244,  0.12641572,  0.34763842,  0.07893497,\n",
    "         0.12789202],\n",
    "       [ 0.28086119,  0.27569815,  0.08594638,  0.0178669 ,  0.18063401,\n",
    "         0.15899337],\n",
    "       [ 0.26076848,  0.23664738,  0.08020603,  0.07001922,  0.1134371 ,\n",
    "         0.23892179],\n",
    "       [ 0.11943333,  0.29198961,  0.02605103,  0.26234032,  0.1351348 ,\n",
    "         0.16505091],\n",
    "       [ 0.09561176,  0.34396535,  0.0643941 ,  0.16240774,  0.24206137,\n",
    "         0.09155967]])\n",
    "```\n",
    "\n",
    "Running it through `sess.run(tf.nn.top_k(tf.constant(a), k=3))` produces:\n",
    "\n",
    "```\n",
    "TopKV2(values=array([[ 0.34763842,  0.24879643,  0.12789202],\n",
    "       [ 0.28086119,  0.27569815,  0.18063401],\n",
    "       [ 0.26076848,  0.23892179,  0.23664738],\n",
    "       [ 0.29198961,  0.26234032,  0.16505091],\n",
    "       [ 0.34396535,  0.24206137,  0.16240774]]), indices=array([[3, 0, 5],\n",
    "       [0, 1, 4],\n",
    "       [0, 5, 1],\n",
    "       [1, 3, 5],\n",
    "       [1, 4, 3]], dtype=int32))\n",
    "```\n",
    "\n",
    "Looking just at the first row we get `[ 0.34763842,  0.24879643,  0.12789202]`, you can confirm these are the 3 largest probabilities in `a`. You'll also notice `[3, 0, 5]` are the corresponding indices."
   ]
  },
  {
   "cell_type": "code",
   "execution_count": 30,
   "metadata": {
    "scrolled": true
   },
   "outputs": [
    {
     "name": "stdout",
     "output_type": "stream",
     "text": [
      "INFO:tensorflow:Restoring parameters from ./lenet\n",
      "Probabilities - Top 5:\n",
      "[[0.98 0.01 0.01 0.   0.  ]\n",
      " [0.29 0.28 0.22 0.06 0.02]\n",
      " [1.   0.   0.   0.   0.  ]\n",
      " [1.   0.   0.   0.   0.  ]\n",
      " [0.81 0.14 0.04 0.   0.  ]]\n",
      "Index - Top 5:\n",
      "[[ 1  2  0  4  5]\n",
      " [ 5  1  2  4  3]\n",
      " [17 14  9 12 10]\n",
      " [13 15  0  1  2]\n",
      " [ 2  1  4  5  0]]\n"
     ]
    },
    {
     "data": {
      "image/png": "[encoded data removed]",
      "text/plain": [
       "<Figure size 144x144 with 1 Axes>"
      ]
     },
     "metadata": {
      "needs_background": "light"
     },
     "output_type": "display_data"
    },
    {
     "data": {
      "image/png": "[encoded data removed]",
      "text/plain": [
       "<Figure size 144x144 with 1 Axes>"
      ]
     },
     "metadata": {
      "needs_background": "light"
     },
     "output_type": "display_data"
    },
    {
     "data": {
      "image/png": "[encoded data removed]",
      "text/plain": [
       "<Figure size 144x144 with 1 Axes>"
      ]
     },
     "metadata": {
      "needs_background": "light"
     },
     "output_type": "display_data"
    },
    {
     "data": {
      "image/png": "[encoded data removed]",
      "text/plain": [
       "<Figure size 144x144 with 1 Axes>"
      ]
     },
     "metadata": {
      "needs_background": "light"
     },
     "output_type": "display_data"
    },
    {
     "data": {
      "image/png": "[encoded data removed]",
      "text/plain": [
       "<Figure size 144x144 with 1 Axes>"
      ]
     },
     "metadata": {
      "needs_background": "light"
     },
     "output_type": "display_data"
    }
   ],
   "source": [
    "softmax_tf = tf.nn.softmax(logits)\n",
    "top5_tf = tf.nn.top_k(softmax_tf, k=5)\n",
    "\n",
    "with tf.Session() as sess:  \n",
    "    sess.run(tf.global_variables_initializer())\n",
    "    saver.restore(sess, tf.train.latest_checkpoint('.'))\n",
    "    top5 = sess.run(top5_tf, feed_dict=\\\n",
    "                            {x: X_newtest_norm, y: y_newtest, keep_prob: 1.0, keep_prob_conv: 1.0})\n",
    "    \n",
    "print('Probabilities - Top 5:')\n",
    "print(np.round(top5[0],2))\n",
    "print('Index - Top 5:')\n",
    "print(top5[1])\n",
    "\n",
    "for i in range(5):\n",
    "    title_str = 'True:' + sign_data[y_newtest[i],1] + '\\nID:\\n'\n",
    "    for j in range(5):\n",
    "        idx = top5[1][i][j]\n",
    "        val = str(np.round(top5[0][i][j]*100,1)) + '%'\n",
    "        title_str = title_str + sign_data[idx,1] + '=' + val + '\\n'\n",
    "    img = X_newtest[i].reshape(32,32,3)\n",
    "    plt.figure(i,figsize=(2,2))\n",
    "    plt.imshow(img)\n",
    "    plt.title(title_str)\n",
    "   "
   ]
  },
  {
   "cell_type": "markdown",
   "metadata": {},
   "source": [
    "### Project Writeup\n",
    "\n",
    "Once you have completed the code implementation, document your results in a project writeup using this [template](https://github.com/udacity/CarND-Traffic-Sign-Classifier-Project/blob/master/writeup_template.md) as a guide. The writeup can be in a markdown or pdf file. "
   ]
  },
  {
   "cell_type": "markdown",
   "metadata": {},
   "source": [
    "> **Note**: Once you have completed all of the code implementations and successfully answered each question above, you may finalize your work by exporting the iPython Notebook as an HTML document. You can do this by using the menu above and navigating to  \\n\",\n",
    "    \"**File -> Download as -> HTML (.html)**. Include the finished document along with this notebook as your submission."
   ]
  },
  {
   "cell_type": "markdown",
   "metadata": {},
   "source": [
    "---\n",
    "\n",
    "## Step 4 (Optional): Visualize the Neural Network's State with Test Images\n",
    "\n",
    " This Section is not required to complete but acts as an additional excersise for understaning the output of a neural network's weights. While neural networks can be a great learning device they are often referred to as a black box. We can understand what the weights of a neural network look like better by plotting their feature maps. After successfully training your neural network you can see what it's feature maps look like by plotting the output of the network's weight layers in response to a test stimuli image. From these plotted feature maps, it's possible to see what characteristics of an image the network finds interesting. For a sign, maybe the inner network feature maps react with high activation to the sign's boundary outline or to the contrast in the sign's painted symbol.\n",
    "\n",
    " Provided for you below is the function code that allows you to get the visualization output of any tensorflow weight layer you want. The inputs to the function should be a stimuli image, one used during training or a new one you provided, and then the tensorflow variable name that represents the layer's state during the training process, for instance if you wanted to see what the [LeNet lab's](https://classroom.udacity.com/nanodegrees/nd013/parts/fbf77062-5703-404e-b60c-95b78b2f3f9e/modules/6df7ae49-c61c-4bb2-a23e-6527e69209ec/lessons/601ae704-1035-4287-8b11-e2c2716217ad/concepts/d4aca031-508f-4e0b-b493-e7b706120f81) feature maps looked like for it's second convolutional layer you could enter conv2 as the tf_activation variable.\n",
    "\n",
    "For an example of what feature map outputs look like, check out NVIDIA's results in their paper [End-to-End Deep Learning for Self-Driving Cars](https://devblogs.nvidia.com/parallelforall/deep-learning-self-driving-cars/) in the section Visualization of internal CNN State. NVIDIA was able to show that their network's inner weights had high activations to road boundary lines by comparing feature maps from an image with a clear path to one without. Try experimenting with a similar test to show that your trained network's weights are looking for interesting features, whether it's looking at differences in feature maps from images with or without a sign, or even what feature maps look like in a trained network vs a completely untrained one on the same sign image.\n",
    "\n",
    "<figure>\n",
    " <img src=\"visualize_cnn.png\" width=\"380\" alt=\"Combined Image\" />\n",
    " <figcaption>\n",
    " <p></p> \n",
    " <p style=\"text-align: center;\"> Your output should look something like this (above)</p> \n",
    " </figcaption>\n",
    "</figure>\n",
    " <p></p> \n"
   ]
  },
  {
   "cell_type": "code",
   "execution_count": null,
   "metadata": {},
   "outputs": [],
   "source": [
    "### Visualize your network's feature maps here.\n",
    "### Feel free to use as many code cells as needed.\n",
    "\n",
    "# image_input: the test image being fed into the network to produce the feature maps\n",
    "# tf_activation: should be a tf variable name used during your training procedure that represents the calculated state of a specific weight layer\n",
    "# activation_min/max: can be used to view the activation contrast in more detail, by default matplot sets min and max to the actual min and max values of the output\n",
    "# plt_num: used to plot out multiple different weight feature map sets on the same block, just extend the plt number for each new feature map entry\n",
    "\n",
    "def outputFeatureMap(image_input, tf_activation, activation_min=-1, activation_max=-1 ,plt_num=1):\n",
    "    # Here make sure to preprocess your image_input in a way your network expects\n",
    "    # with size, normalization, ect if needed\n",
    "    # image_input =\n",
    "    # Note: x should be the same name as your network's tensorflow data placeholder variable\n",
    "    # If you get an error tf_activation is not defined it may be having trouble accessing the variable from inside a function\n",
    "    activation = tf_activation.eval(session=sess,feed_dict={x : image_input})\n",
    "    featuremaps = activation.shape[3]\n",
    "    plt.figure(plt_num, figsize=(15,15))\n",
    "    for featuremap in range(featuremaps):\n",
    "        plt.subplot(6,8, featuremap+1) # sets the number of feature maps to show on each row and column\n",
    "        plt.title('FeatureMap ' + str(featuremap)) # displays the feature map number\n",
    "        if activation_min != -1 & activation_max != -1:\n",
    "            plt.imshow(activation[0,:,:, featuremap], interpolation=\"nearest\", vmin =activation_min, vmax=activation_max, cmap=\"gray\")\n",
    "        elif activation_max != -1:\n",
    "            plt.imshow(activation[0,:,:, featuremap], interpolation=\"nearest\", vmax=activation_max, cmap=\"gray\")\n",
    "        elif activation_min !=-1:\n",
    "            plt.imshow(activation[0,:,:, featuremap], interpolation=\"nearest\", vmin=activation_min, cmap=\"gray\")\n",
    "        else:\n",
    "            plt.imshow(activation[0,:,:, featuremap], interpolation=\"nearest\", cmap=\"gray\")"
   ]
  },
  {
   "cell_type": "code",
   "execution_count": null,
   "metadata": {},
   "outputs": [],
   "source": [
    "img = X_newtest[0].reshape(32,32,3)\n",
    "\n",
    "with tf.Session() as sess:\n",
    "    saver.restore(sess, tf.train.latest_checkpoint('.'))\n",
    "    outputFeatureMap(img, conv1)\n",
    "    "
   ]
  },
  {
   "cell_type": "code",
   "execution_count": null,
   "metadata": {},
   "outputs": [],
   "source": []
  }
 ],
 "metadata": {
  "anaconda-cloud": {},
  "kernelspec": {
   "display_name": "Python 3",
   "language": "python",
   "name": "python3"
  },
  "language_info": {
   "codemirror_mode": {
    "name": "ipython",
    "version": 3
   },
   "file_extension": ".py",
   "mimetype": "text/x-python",
   "name": "python",
   "nbconvert_exporter": "python",
   "pygments_lexer": "ipython3",
   "version": "3.6.8"
  }
 },
 "nbformat": 4,
 "nbformat_minor": 1
}
